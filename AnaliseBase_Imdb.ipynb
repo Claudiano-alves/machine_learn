{
  "nbformat": 4,
  "nbformat_minor": 0,
  "metadata": {
    "colab": {
      "provenance": []
    },
    "kernelspec": {
      "name": "python3",
      "display_name": "Python 3"
    },
    "language_info": {
      "name": "python"
    }
  },
  "cells": [
    {
      "cell_type": "code",
      "execution_count": null,
      "metadata": {
        "colab": {
          "base_uri": "https://localhost:8080/",
          "height": 73
        },
        "id": "3LxqChpHXKik",
        "outputId": "83d22207-8b39-4430-a29e-a75c234cbee6"
      },
      "outputs": [
        {
          "output_type": "display_data",
          "data": {
            "text/plain": [
              "<IPython.core.display.HTML object>"
            ],
            "text/html": [
              "\n",
              "     <input type=\"file\" id=\"files-013d5b34-8341-489c-a551-e42578c9bd48\" name=\"files[]\" multiple disabled\n",
              "        style=\"border:none\" />\n",
              "     <output id=\"result-013d5b34-8341-489c-a551-e42578c9bd48\">\n",
              "      Upload widget is only available when the cell has been executed in the\n",
              "      current browser session. Please rerun this cell to enable.\n",
              "      </output>\n",
              "      <script>// Copyright 2017 Google LLC\n",
              "//\n",
              "// Licensed under the Apache License, Version 2.0 (the \"License\");\n",
              "// you may not use this file except in compliance with the License.\n",
              "// You may obtain a copy of the License at\n",
              "//\n",
              "//      http://www.apache.org/licenses/LICENSE-2.0\n",
              "//\n",
              "// Unless required by applicable law or agreed to in writing, software\n",
              "// distributed under the License is distributed on an \"AS IS\" BASIS,\n",
              "// WITHOUT WARRANTIES OR CONDITIONS OF ANY KIND, either express or implied.\n",
              "// See the License for the specific language governing permissions and\n",
              "// limitations under the License.\n",
              "\n",
              "/**\n",
              " * @fileoverview Helpers for google.colab Python module.\n",
              " */\n",
              "(function(scope) {\n",
              "function span(text, styleAttributes = {}) {\n",
              "  const element = document.createElement('span');\n",
              "  element.textContent = text;\n",
              "  for (const key of Object.keys(styleAttributes)) {\n",
              "    element.style[key] = styleAttributes[key];\n",
              "  }\n",
              "  return element;\n",
              "}\n",
              "\n",
              "// Max number of bytes which will be uploaded at a time.\n",
              "const MAX_PAYLOAD_SIZE = 100 * 1024;\n",
              "\n",
              "function _uploadFiles(inputId, outputId) {\n",
              "  const steps = uploadFilesStep(inputId, outputId);\n",
              "  const outputElement = document.getElementById(outputId);\n",
              "  // Cache steps on the outputElement to make it available for the next call\n",
              "  // to uploadFilesContinue from Python.\n",
              "  outputElement.steps = steps;\n",
              "\n",
              "  return _uploadFilesContinue(outputId);\n",
              "}\n",
              "\n",
              "// This is roughly an async generator (not supported in the browser yet),\n",
              "// where there are multiple asynchronous steps and the Python side is going\n",
              "// to poll for completion of each step.\n",
              "// This uses a Promise to block the python side on completion of each step,\n",
              "// then passes the result of the previous step as the input to the next step.\n",
              "function _uploadFilesContinue(outputId) {\n",
              "  const outputElement = document.getElementById(outputId);\n",
              "  const steps = outputElement.steps;\n",
              "\n",
              "  const next = steps.next(outputElement.lastPromiseValue);\n",
              "  return Promise.resolve(next.value.promise).then((value) => {\n",
              "    // Cache the last promise value to make it available to the next\n",
              "    // step of the generator.\n",
              "    outputElement.lastPromiseValue = value;\n",
              "    return next.value.response;\n",
              "  });\n",
              "}\n",
              "\n",
              "/**\n",
              " * Generator function which is called between each async step of the upload\n",
              " * process.\n",
              " * @param {string} inputId Element ID of the input file picker element.\n",
              " * @param {string} outputId Element ID of the output display.\n",
              " * @return {!Iterable<!Object>} Iterable of next steps.\n",
              " */\n",
              "function* uploadFilesStep(inputId, outputId) {\n",
              "  const inputElement = document.getElementById(inputId);\n",
              "  inputElement.disabled = false;\n",
              "\n",
              "  const outputElement = document.getElementById(outputId);\n",
              "  outputElement.innerHTML = '';\n",
              "\n",
              "  const pickedPromise = new Promise((resolve) => {\n",
              "    inputElement.addEventListener('change', (e) => {\n",
              "      resolve(e.target.files);\n",
              "    });\n",
              "  });\n",
              "\n",
              "  const cancel = document.createElement('button');\n",
              "  inputElement.parentElement.appendChild(cancel);\n",
              "  cancel.textContent = 'Cancel upload';\n",
              "  const cancelPromise = new Promise((resolve) => {\n",
              "    cancel.onclick = () => {\n",
              "      resolve(null);\n",
              "    };\n",
              "  });\n",
              "\n",
              "  // Wait for the user to pick the files.\n",
              "  const files = yield {\n",
              "    promise: Promise.race([pickedPromise, cancelPromise]),\n",
              "    response: {\n",
              "      action: 'starting',\n",
              "    }\n",
              "  };\n",
              "\n",
              "  cancel.remove();\n",
              "\n",
              "  // Disable the input element since further picks are not allowed.\n",
              "  inputElement.disabled = true;\n",
              "\n",
              "  if (!files) {\n",
              "    return {\n",
              "      response: {\n",
              "        action: 'complete',\n",
              "      }\n",
              "    };\n",
              "  }\n",
              "\n",
              "  for (const file of files) {\n",
              "    const li = document.createElement('li');\n",
              "    li.append(span(file.name, {fontWeight: 'bold'}));\n",
              "    li.append(span(\n",
              "        `(${file.type || 'n/a'}) - ${file.size} bytes, ` +\n",
              "        `last modified: ${\n",
              "            file.lastModifiedDate ? file.lastModifiedDate.toLocaleDateString() :\n",
              "                                    'n/a'} - `));\n",
              "    const percent = span('0% done');\n",
              "    li.appendChild(percent);\n",
              "\n",
              "    outputElement.appendChild(li);\n",
              "\n",
              "    const fileDataPromise = new Promise((resolve) => {\n",
              "      const reader = new FileReader();\n",
              "      reader.onload = (e) => {\n",
              "        resolve(e.target.result);\n",
              "      };\n",
              "      reader.readAsArrayBuffer(file);\n",
              "    });\n",
              "    // Wait for the data to be ready.\n",
              "    let fileData = yield {\n",
              "      promise: fileDataPromise,\n",
              "      response: {\n",
              "        action: 'continue',\n",
              "      }\n",
              "    };\n",
              "\n",
              "    // Use a chunked sending to avoid message size limits. See b/62115660.\n",
              "    let position = 0;\n",
              "    do {\n",
              "      const length = Math.min(fileData.byteLength - position, MAX_PAYLOAD_SIZE);\n",
              "      const chunk = new Uint8Array(fileData, position, length);\n",
              "      position += length;\n",
              "\n",
              "      const base64 = btoa(String.fromCharCode.apply(null, chunk));\n",
              "      yield {\n",
              "        response: {\n",
              "          action: 'append',\n",
              "          file: file.name,\n",
              "          data: base64,\n",
              "        },\n",
              "      };\n",
              "\n",
              "      let percentDone = fileData.byteLength === 0 ?\n",
              "          100 :\n",
              "          Math.round((position / fileData.byteLength) * 100);\n",
              "      percent.textContent = `${percentDone}% done`;\n",
              "\n",
              "    } while (position < fileData.byteLength);\n",
              "  }\n",
              "\n",
              "  // All done.\n",
              "  yield {\n",
              "    response: {\n",
              "      action: 'complete',\n",
              "    }\n",
              "  };\n",
              "}\n",
              "\n",
              "scope.google = scope.google || {};\n",
              "scope.google.colab = scope.google.colab || {};\n",
              "scope.google.colab._files = {\n",
              "  _uploadFiles,\n",
              "  _uploadFilesContinue,\n",
              "};\n",
              "})(self);\n",
              "</script> "
            ]
          },
          "metadata": {}
        },
        {
          "output_type": "stream",
          "name": "stdout",
          "text": [
            "Saving amazon_cells_labelled.txt to amazon_cells_labelled.txt\n"
          ]
        }
      ],
      "source": [
        "from google.colab import files\n",
        "\n",
        "uploaded = files.upload()"
      ]
    },
    {
      "cell_type": "code",
      "source": [
        "import pandas as pd\n",
        "import io\n",
        "\n",
        "df = pd.read_csv(io.BytesIO(uploaded['amazon_cells_labelled.txt']), sep = '\\t')\n",
        "print(df)"
      ],
      "metadata": {
        "colab": {
          "base_uri": "https://localhost:8080/"
        },
        "id": "itLsckG2XeS3",
        "outputId": "399d61ae-045c-4811-c041-a21543787f41"
      },
      "execution_count": null,
      "outputs": [
        {
          "output_type": "stream",
          "name": "stdout",
          "text": [
            "                                                  text  target\n",
            "0    So there is no way for me to plug it in here i...       0\n",
            "1                          Good case, Excellent value.       1\n",
            "2                               Great for the jawbone.       1\n",
            "3    Tied to charger for conversations lasting more...       0\n",
            "4                                    The mic is great.       1\n",
            "..                                                 ...     ...\n",
            "995  The screen does get smudged easily because it ...       0\n",
            "996  What a piece of junk.. I lose more calls on th...       0\n",
            "997                       Item Does Not Match Picture.       0\n",
            "998  The only thing that disappoint me is the infra...       0\n",
            "999  You can not answer calls with the unit, never ...       0\n",
            "\n",
            "[1000 rows x 2 columns]\n"
          ]
        }
      ]
    },
    {
      "cell_type": "code",
      "source": [
        "contagem_classes = df.groupby('target').count()\n",
        "total = contagem_classes.sum()\n",
        "porcentage_classes = contagem_classes / total * 100\n",
        "print(porcentage_classes)"
      ],
      "metadata": {
        "colab": {
          "base_uri": "https://localhost:8080/"
        },
        "id": "IBf5eZOxXncx",
        "outputId": "3fb19fe7-4950-4ed9-b5ec-3d580d7e6a1a"
      },
      "execution_count": null,
      "outputs": [
        {
          "output_type": "stream",
          "name": "stdout",
          "text": [
            "        text\n",
            "target      \n",
            "0       50.0\n",
            "1       50.0\n"
          ]
        }
      ]
    },
    {
      "cell_type": "code",
      "source": [
        "!pip install scikit-learn==1.2.2\n",
        "import numpy as np\n",
        "from sklearn.model_selection import train_test_split\n",
        "X = df['text']\n",
        "y = df['target']\n",
        "X_train, X_test, y_train, y_test = train_test_split(X, y, test_size=0.25, random_state=42)"
      ],
      "metadata": {
        "colab": {
          "base_uri": "https://localhost:8080/"
        },
        "id": "zRFw8g1WXuWa",
        "outputId": "0322a49c-e6f3-4d68-c876-717ec9304319"
      },
      "execution_count": null,
      "outputs": [
        {
          "output_type": "stream",
          "name": "stdout",
          "text": [
            "Collecting scikit-learn==1.2.2\n",
            "  Downloading scikit_learn-1.2.2-cp310-cp310-manylinux_2_17_x86_64.manylinux2014_x86_64.whl.metadata (11 kB)\n",
            "Requirement already satisfied: numpy>=1.17.3 in /usr/local/lib/python3.10/dist-packages (from scikit-learn==1.2.2) (1.26.4)\n",
            "Requirement already satisfied: scipy>=1.3.2 in /usr/local/lib/python3.10/dist-packages (from scikit-learn==1.2.2) (1.13.1)\n",
            "Requirement already satisfied: joblib>=1.1.1 in /usr/local/lib/python3.10/dist-packages (from scikit-learn==1.2.2) (1.4.2)\n",
            "Requirement already satisfied: threadpoolctl>=2.0.0 in /usr/local/lib/python3.10/dist-packages (from scikit-learn==1.2.2) (3.5.0)\n",
            "Downloading scikit_learn-1.2.2-cp310-cp310-manylinux_2_17_x86_64.manylinux2014_x86_64.whl (9.6 MB)\n",
            "\u001b[2K   \u001b[90m━━━━━━━━━━━━━━━━━━━━━━━━━━━━━━━━━━━━━━━━\u001b[0m \u001b[32m9.6/9.6 MB\u001b[0m \u001b[31m51.5 MB/s\u001b[0m eta \u001b[36m0:00:00\u001b[0m\n",
            "\u001b[?25hInstalling collected packages: scikit-learn\n",
            "  Attempting uninstall: scikit-learn\n",
            "    Found existing installation: scikit-learn 1.5.2\n",
            "    Uninstalling scikit-learn-1.5.2:\n",
            "      Successfully uninstalled scikit-learn-1.5.2\n",
            "Successfully installed scikit-learn-1.2.2\n"
          ]
        }
      ]
    },
    {
      "cell_type": "code",
      "source": [
        "from sklearn.feature_extraction.text import TfidfVectorizer\n",
        "\n",
        "X_train_indices = X_train.index\n",
        "X_test_indices = X_test.index\n",
        "\n",
        "X_train_text = df['text'].iloc[X_train_indices]\n",
        "X_test_text = df['text'].iloc[X_test_indices]\n",
        "\n",
        "vectorizer = TfidfVectorizer()\n",
        "\n",
        "X_train_tfidf = vectorizer.fit_transform(X_train_text)\n",
        "X_test_tfidf = vectorizer.transform(X_test_text)"
      ],
      "metadata": {
        "id": "BvQGttZBX0k9"
      },
      "execution_count": null,
      "outputs": []
    },
    {
      "cell_type": "code",
      "source": [
        "from sklearn.ensemble import RandomForestClassifier"
      ],
      "metadata": {
        "id": "lv1qyj-9X4k-"
      },
      "execution_count": null,
      "outputs": []
    },
    {
      "cell_type": "code",
      "source": [
        "model = RandomForestClassifier(random_state = 10)\n",
        "model.fit(X_train_tfidf, y_train)"
      ],
      "metadata": {
        "colab": {
          "base_uri": "https://localhost:8080/",
          "height": 75
        },
        "id": "OGrocmIhX7IY",
        "outputId": "cbb96082-9c48-4959-9213-2eeefc8151d9"
      },
      "execution_count": null,
      "outputs": [
        {
          "output_type": "execute_result",
          "data": {
            "text/plain": [
              "RandomForestClassifier(random_state=10)"
            ],
            "text/html": [
              "<style>#sk-container-id-1 {color: black;background-color: white;}#sk-container-id-1 pre{padding: 0;}#sk-container-id-1 div.sk-toggleable {background-color: white;}#sk-container-id-1 label.sk-toggleable__label {cursor: pointer;display: block;width: 100%;margin-bottom: 0;padding: 0.3em;box-sizing: border-box;text-align: center;}#sk-container-id-1 label.sk-toggleable__label-arrow:before {content: \"▸\";float: left;margin-right: 0.25em;color: #696969;}#sk-container-id-1 label.sk-toggleable__label-arrow:hover:before {color: black;}#sk-container-id-1 div.sk-estimator:hover label.sk-toggleable__label-arrow:before {color: black;}#sk-container-id-1 div.sk-toggleable__content {max-height: 0;max-width: 0;overflow: hidden;text-align: left;background-color: #f0f8ff;}#sk-container-id-1 div.sk-toggleable__content pre {margin: 0.2em;color: black;border-radius: 0.25em;background-color: #f0f8ff;}#sk-container-id-1 input.sk-toggleable__control:checked~div.sk-toggleable__content {max-height: 200px;max-width: 100%;overflow: auto;}#sk-container-id-1 input.sk-toggleable__control:checked~label.sk-toggleable__label-arrow:before {content: \"▾\";}#sk-container-id-1 div.sk-estimator input.sk-toggleable__control:checked~label.sk-toggleable__label {background-color: #d4ebff;}#sk-container-id-1 div.sk-label input.sk-toggleable__control:checked~label.sk-toggleable__label {background-color: #d4ebff;}#sk-container-id-1 input.sk-hidden--visually {border: 0;clip: rect(1px 1px 1px 1px);clip: rect(1px, 1px, 1px, 1px);height: 1px;margin: -1px;overflow: hidden;padding: 0;position: absolute;width: 1px;}#sk-container-id-1 div.sk-estimator {font-family: monospace;background-color: #f0f8ff;border: 1px dotted black;border-radius: 0.25em;box-sizing: border-box;margin-bottom: 0.5em;}#sk-container-id-1 div.sk-estimator:hover {background-color: #d4ebff;}#sk-container-id-1 div.sk-parallel-item::after {content: \"\";width: 100%;border-bottom: 1px solid gray;flex-grow: 1;}#sk-container-id-1 div.sk-label:hover label.sk-toggleable__label {background-color: #d4ebff;}#sk-container-id-1 div.sk-serial::before {content: \"\";position: absolute;border-left: 1px solid gray;box-sizing: border-box;top: 0;bottom: 0;left: 50%;z-index: 0;}#sk-container-id-1 div.sk-serial {display: flex;flex-direction: column;align-items: center;background-color: white;padding-right: 0.2em;padding-left: 0.2em;position: relative;}#sk-container-id-1 div.sk-item {position: relative;z-index: 1;}#sk-container-id-1 div.sk-parallel {display: flex;align-items: stretch;justify-content: center;background-color: white;position: relative;}#sk-container-id-1 div.sk-item::before, #sk-container-id-1 div.sk-parallel-item::before {content: \"\";position: absolute;border-left: 1px solid gray;box-sizing: border-box;top: 0;bottom: 0;left: 50%;z-index: -1;}#sk-container-id-1 div.sk-parallel-item {display: flex;flex-direction: column;z-index: 1;position: relative;background-color: white;}#sk-container-id-1 div.sk-parallel-item:first-child::after {align-self: flex-end;width: 50%;}#sk-container-id-1 div.sk-parallel-item:last-child::after {align-self: flex-start;width: 50%;}#sk-container-id-1 div.sk-parallel-item:only-child::after {width: 0;}#sk-container-id-1 div.sk-dashed-wrapped {border: 1px dashed gray;margin: 0 0.4em 0.5em 0.4em;box-sizing: border-box;padding-bottom: 0.4em;background-color: white;}#sk-container-id-1 div.sk-label label {font-family: monospace;font-weight: bold;display: inline-block;line-height: 1.2em;}#sk-container-id-1 div.sk-label-container {text-align: center;}#sk-container-id-1 div.sk-container {/* jupyter's `normalize.less` sets `[hidden] { display: none; }` but bootstrap.min.css set `[hidden] { display: none !important; }` so we also need the `!important` here to be able to override the default hidden behavior on the sphinx rendered scikit-learn.org. See: https://github.com/scikit-learn/scikit-learn/issues/21755 */display: inline-block !important;position: relative;}#sk-container-id-1 div.sk-text-repr-fallback {display: none;}</style><div id=\"sk-container-id-1\" class=\"sk-top-container\"><div class=\"sk-text-repr-fallback\"><pre>RandomForestClassifier(random_state=10)</pre><b>In a Jupyter environment, please rerun this cell to show the HTML representation or trust the notebook. <br />On GitHub, the HTML representation is unable to render, please try loading this page with nbviewer.org.</b></div><div class=\"sk-container\" hidden><div class=\"sk-item\"><div class=\"sk-estimator sk-toggleable\"><input class=\"sk-toggleable__control sk-hidden--visually\" id=\"sk-estimator-id-1\" type=\"checkbox\" checked><label for=\"sk-estimator-id-1\" class=\"sk-toggleable__label sk-toggleable__label-arrow\">RandomForestClassifier</label><div class=\"sk-toggleable__content\"><pre>RandomForestClassifier(random_state=10)</pre></div></div></div></div></div>"
            ]
          },
          "metadata": {},
          "execution_count": 7
        }
      ]
    },
    {
      "cell_type": "code",
      "source": [
        "y_pred = model.predict(X_test_tfidf)"
      ],
      "metadata": {
        "id": "_WXDKYxDX9sc"
      },
      "execution_count": null,
      "outputs": []
    },
    {
      "cell_type": "code",
      "source": [
        "y_test"
      ],
      "metadata": {
        "colab": {
          "base_uri": "https://localhost:8080/",
          "height": 458
        },
        "id": "pYLvbOjBghFa",
        "outputId": "f57484d4-dc5a-4dbb-8aac-b58d6150ec24"
      },
      "execution_count": null,
      "outputs": [
        {
          "output_type": "execute_result",
          "data": {
            "text/plain": [
              "521    1\n",
              "737    1\n",
              "740    1\n",
              "660    0\n",
              "411    1\n",
              "      ..\n",
              "109    0\n",
              "430    1\n",
              "77     1\n",
              "84     0\n",
              "286    0\n",
              "Name: target, Length: 250, dtype: int64"
            ],
            "text/html": [
              "<div>\n",
              "<style scoped>\n",
              "    .dataframe tbody tr th:only-of-type {\n",
              "        vertical-align: middle;\n",
              "    }\n",
              "\n",
              "    .dataframe tbody tr th {\n",
              "        vertical-align: top;\n",
              "    }\n",
              "\n",
              "    .dataframe thead th {\n",
              "        text-align: right;\n",
              "    }\n",
              "</style>\n",
              "<table border=\"1\" class=\"dataframe\">\n",
              "  <thead>\n",
              "    <tr style=\"text-align: right;\">\n",
              "      <th></th>\n",
              "      <th>target</th>\n",
              "    </tr>\n",
              "  </thead>\n",
              "  <tbody>\n",
              "    <tr>\n",
              "      <th>521</th>\n",
              "      <td>1</td>\n",
              "    </tr>\n",
              "    <tr>\n",
              "      <th>737</th>\n",
              "      <td>1</td>\n",
              "    </tr>\n",
              "    <tr>\n",
              "      <th>740</th>\n",
              "      <td>1</td>\n",
              "    </tr>\n",
              "    <tr>\n",
              "      <th>660</th>\n",
              "      <td>0</td>\n",
              "    </tr>\n",
              "    <tr>\n",
              "      <th>411</th>\n",
              "      <td>1</td>\n",
              "    </tr>\n",
              "    <tr>\n",
              "      <th>...</th>\n",
              "      <td>...</td>\n",
              "    </tr>\n",
              "    <tr>\n",
              "      <th>109</th>\n",
              "      <td>0</td>\n",
              "    </tr>\n",
              "    <tr>\n",
              "      <th>430</th>\n",
              "      <td>1</td>\n",
              "    </tr>\n",
              "    <tr>\n",
              "      <th>77</th>\n",
              "      <td>1</td>\n",
              "    </tr>\n",
              "    <tr>\n",
              "      <th>84</th>\n",
              "      <td>0</td>\n",
              "    </tr>\n",
              "    <tr>\n",
              "      <th>286</th>\n",
              "      <td>0</td>\n",
              "    </tr>\n",
              "  </tbody>\n",
              "</table>\n",
              "<p>250 rows × 1 columns</p>\n",
              "</div><br><label><b>dtype:</b> int64</label>"
            ]
          },
          "metadata": {},
          "execution_count": 9
        }
      ]
    },
    {
      "cell_type": "code",
      "source": [
        "y_proba = model.predict_proba(X_test_tfidf)"
      ],
      "metadata": {
        "id": "QRkXMC8pVGq0"
      },
      "execution_count": null,
      "outputs": []
    },
    {
      "cell_type": "code",
      "source": [
        "y_proba"
      ],
      "metadata": {
        "colab": {
          "base_uri": "https://localhost:8080/"
        },
        "id": "wy2d8mKiVia5",
        "outputId": "77bf20e9-346d-4ec2-b072-a2d2545986b7"
      },
      "execution_count": null,
      "outputs": [
        {
          "output_type": "execute_result",
          "data": {
            "text/plain": [
              "array([[0.33, 0.67],\n",
              "       [0.3 , 0.7 ],\n",
              "       [0.22, 0.78],\n",
              "       [0.85, 0.15],\n",
              "       [0.37, 0.63],\n",
              "       [0.35, 0.65],\n",
              "       [0.67, 0.33],\n",
              "       [0.19, 0.81],\n",
              "       [0.78, 0.22],\n",
              "       [0.16, 0.84],\n",
              "       [0.13, 0.87],\n",
              "       [0.86, 0.14],\n",
              "       [0.49, 0.51],\n",
              "       [0.47, 0.53],\n",
              "       [0.44, 0.56],\n",
              "       [0.76, 0.24],\n",
              "       [0.08, 0.92],\n",
              "       [0.97, 0.03],\n",
              "       [0.45, 0.55],\n",
              "       [0.11, 0.89],\n",
              "       [0.35, 0.65],\n",
              "       [0.31, 0.69],\n",
              "       [0.27, 0.73],\n",
              "       [0.55, 0.45],\n",
              "       [0.85, 0.15],\n",
              "       [0.77, 0.23],\n",
              "       [0.85, 0.15],\n",
              "       [0.58, 0.42],\n",
              "       [0.47, 0.53],\n",
              "       [0.1 , 0.9 ],\n",
              "       [0.56, 0.44],\n",
              "       [0.64, 0.36],\n",
              "       [0.97, 0.03],\n",
              "       [0.26, 0.74],\n",
              "       [0.51, 0.49],\n",
              "       [0.81, 0.19],\n",
              "       [0.49, 0.51],\n",
              "       [0.29, 0.71],\n",
              "       [0.42, 0.58],\n",
              "       [0.63, 0.37],\n",
              "       [0.72, 0.28],\n",
              "       [0.65, 0.35],\n",
              "       [0.77, 0.23],\n",
              "       [0.4 , 0.6 ],\n",
              "       [0.8 , 0.2 ],\n",
              "       [0.15, 0.85],\n",
              "       [0.05, 0.95],\n",
              "       [0.7 , 0.3 ],\n",
              "       [0.83, 0.17],\n",
              "       [0.67, 0.33],\n",
              "       [0.41, 0.59],\n",
              "       [0.56, 0.44],\n",
              "       [0.43, 0.57],\n",
              "       [0.55, 0.45],\n",
              "       [0.57, 0.43],\n",
              "       [0.29, 0.71],\n",
              "       [0.62, 0.38],\n",
              "       [0.09, 0.91],\n",
              "       [0.5 , 0.5 ],\n",
              "       [0.34, 0.66],\n",
              "       [0.26, 0.74],\n",
              "       [0.19, 0.81],\n",
              "       [0.64, 0.36],\n",
              "       [0.61, 0.39],\n",
              "       [0.97, 0.03],\n",
              "       [0.33, 0.67],\n",
              "       [0.47, 0.53],\n",
              "       [0.11, 0.89],\n",
              "       [0.95, 0.05],\n",
              "       [0.91, 0.09],\n",
              "       [0.12, 0.88],\n",
              "       [0.48, 0.52],\n",
              "       [0.78, 0.22],\n",
              "       [0.53, 0.47],\n",
              "       [0.11, 0.89],\n",
              "       [0.15, 0.85],\n",
              "       [0.83, 0.17],\n",
              "       [0.53, 0.47],\n",
              "       [0.73, 0.27],\n",
              "       [0.4 , 0.6 ],\n",
              "       [0.45, 0.55],\n",
              "       [0.71, 0.29],\n",
              "       [0.03, 0.97],\n",
              "       [0.33, 0.67],\n",
              "       [0.84, 0.16],\n",
              "       [0.58, 0.42],\n",
              "       [0.82, 0.18],\n",
              "       [0.89, 0.11],\n",
              "       [0.46, 0.54],\n",
              "       [0.57, 0.43],\n",
              "       [0.56, 0.44],\n",
              "       [0.09, 0.91],\n",
              "       [0.84, 0.16],\n",
              "       [0.55, 0.45],\n",
              "       [0.2 , 0.8 ],\n",
              "       [0.78, 0.22],\n",
              "       [0.74, 0.26],\n",
              "       [0.16, 0.84],\n",
              "       [0.71, 0.29],\n",
              "       [0.55, 0.45],\n",
              "       [0.5 , 0.5 ],\n",
              "       [0.1 , 0.9 ],\n",
              "       [0.61, 0.39],\n",
              "       [0.42, 0.58],\n",
              "       [0.51, 0.49],\n",
              "       [0.81, 0.19],\n",
              "       [0.62, 0.38],\n",
              "       [0.72, 0.28],\n",
              "       [0.63, 0.37],\n",
              "       [0.65, 0.35],\n",
              "       [0.71, 0.29],\n",
              "       [0.43, 0.57],\n",
              "       [0.42, 0.58],\n",
              "       [0.52, 0.48],\n",
              "       [0.04, 0.96],\n",
              "       [0.63, 0.37],\n",
              "       [0.77, 0.23],\n",
              "       [0.63, 0.37],\n",
              "       [0.02, 0.98],\n",
              "       [0.3 , 0.7 ],\n",
              "       [0.02, 0.98],\n",
              "       [0.32, 0.68],\n",
              "       [0.34, 0.66],\n",
              "       [0.09, 0.91],\n",
              "       [0.18, 0.82],\n",
              "       [0.55, 0.45],\n",
              "       [0.57, 0.43],\n",
              "       [0.32, 0.68],\n",
              "       [0.3 , 0.7 ],\n",
              "       [0.05, 0.95],\n",
              "       [0.19, 0.81],\n",
              "       [0.62, 0.38],\n",
              "       [0.13, 0.87],\n",
              "       [0.6 , 0.4 ],\n",
              "       [0.26, 0.74],\n",
              "       [0.32, 0.68],\n",
              "       [0.55, 0.45],\n",
              "       [0.1 , 0.9 ],\n",
              "       [0.04, 0.96],\n",
              "       [0.02, 0.98],\n",
              "       [0.18, 0.82],\n",
              "       [0.18, 0.82],\n",
              "       [0.48, 0.52],\n",
              "       [0.11, 0.89],\n",
              "       [0.91, 0.09],\n",
              "       [0.35, 0.65],\n",
              "       [0.75, 0.25],\n",
              "       [0.62, 0.38],\n",
              "       [0.31, 0.69],\n",
              "       [0.57, 0.43],\n",
              "       [0.74, 0.26],\n",
              "       [0.27, 0.73],\n",
              "       [0.77, 0.23],\n",
              "       [0.5 , 0.5 ],\n",
              "       [0.11, 0.89],\n",
              "       [0.71, 0.29],\n",
              "       [0.93, 0.07],\n",
              "       [0.68, 0.32],\n",
              "       [0.78, 0.22],\n",
              "       [0.74, 0.26],\n",
              "       [0.73, 0.27],\n",
              "       [0.56, 0.44],\n",
              "       [0.59, 0.41],\n",
              "       [0.53, 0.47],\n",
              "       [0.2 , 0.8 ],\n",
              "       [0.45, 0.55],\n",
              "       [0.79, 0.21],\n",
              "       [0.05, 0.95],\n",
              "       [0.41, 0.59],\n",
              "       [0.22, 0.78],\n",
              "       [0.8 , 0.2 ],\n",
              "       [0.66, 0.34],\n",
              "       [0.37, 0.63],\n",
              "       [0.48, 0.52],\n",
              "       [0.89, 0.11],\n",
              "       [0.92, 0.08],\n",
              "       [0.62, 0.38],\n",
              "       [0.22, 0.78],\n",
              "       [0.01, 0.99],\n",
              "       [0.73, 0.27],\n",
              "       [0.9 , 0.1 ],\n",
              "       [0.4 , 0.6 ],\n",
              "       [0.42, 0.58],\n",
              "       [0.8 , 0.2 ],\n",
              "       [0.8 , 0.2 ],\n",
              "       [0.06, 0.94],\n",
              "       [0.13, 0.87],\n",
              "       [0.41, 0.59],\n",
              "       [0.43, 0.57],\n",
              "       [0.16, 0.84],\n",
              "       [0.2 , 0.8 ],\n",
              "       [0.12, 0.88],\n",
              "       [0.78, 0.22],\n",
              "       [0.38, 0.62],\n",
              "       [0.41, 0.59],\n",
              "       [0.73, 0.27],\n",
              "       [0.24, 0.76],\n",
              "       [0.06, 0.94],\n",
              "       [0.6 , 0.4 ],\n",
              "       [0.24, 0.76],\n",
              "       [0.83, 0.17],\n",
              "       [0.64, 0.36],\n",
              "       [0.83, 0.17],\n",
              "       [0.39, 0.61],\n",
              "       [0.76, 0.24],\n",
              "       [0.91, 0.09],\n",
              "       [0.01, 0.99],\n",
              "       [0.35, 0.65],\n",
              "       [0.87, 0.13],\n",
              "       [0.35, 0.65],\n",
              "       [0.69, 0.31],\n",
              "       [0.58, 0.42],\n",
              "       [0.59, 0.41],\n",
              "       [0.1 , 0.9 ],\n",
              "       [0.12, 0.88],\n",
              "       [0.32, 0.68],\n",
              "       [0.43, 0.57],\n",
              "       [0.19, 0.81],\n",
              "       [0.7 , 0.3 ],\n",
              "       [0.35, 0.65],\n",
              "       [0.07, 0.93],\n",
              "       [0.47, 0.53],\n",
              "       [0.25, 0.75],\n",
              "       [0.79, 0.21],\n",
              "       [0.  , 1.  ],\n",
              "       [0.19, 0.81],\n",
              "       [0.75, 0.25],\n",
              "       [0.3 , 0.7 ],\n",
              "       [0.58, 0.42],\n",
              "       [0.53, 0.47],\n",
              "       [0.73, 0.27],\n",
              "       [0.84, 0.16],\n",
              "       [0.53, 0.47],\n",
              "       [0.48, 0.52],\n",
              "       [0.5 , 0.5 ],\n",
              "       [0.52, 0.48],\n",
              "       [0.91, 0.09],\n",
              "       [0.28, 0.72],\n",
              "       [0.25, 0.75],\n",
              "       [0.47, 0.53],\n",
              "       [0.65, 0.35],\n",
              "       [0.84, 0.16],\n",
              "       [0.08, 0.92],\n",
              "       [0.3 , 0.7 ],\n",
              "       [0.06, 0.94],\n",
              "       [0.73, 0.27],\n",
              "       [0.69, 0.31],\n",
              "       [0.11, 0.89],\n",
              "       [0.41, 0.59],\n",
              "       [0.43, 0.57]])"
            ]
          },
          "metadata": {},
          "execution_count": 11
        }
      ]
    },
    {
      "cell_type": "code",
      "source": [
        "from sklearn.metrics import accuracy_score, precision_score, recall_score, roc_curve, auc, precision_recall_curve\n",
        "import matplotlib.pyplot as plt"
      ],
      "metadata": {
        "id": "U1Iwv3vQYAnN"
      },
      "execution_count": null,
      "outputs": []
    },
    {
      "cell_type": "code",
      "source": [
        "accuracy = accuracy_score(y_test, y_pred)\n",
        "print(f\"Acurácia: {accuracy}\")\n",
        "\n",
        "precision = precision_score(y_test, y_pred)\n",
        "print(f\"Precisão: {precision}\")\n",
        "\n",
        "recall = recall_score(y_test, y_pred)\n",
        "print(f\"Recall: {recall}\")\n"
      ],
      "metadata": {
        "colab": {
          "base_uri": "https://localhost:8080/"
        },
        "id": "Qu7JtMZ2YFIw",
        "outputId": "02cb1917-5ee4-40d1-f6b2-a1e4fc643000"
      },
      "execution_count": null,
      "outputs": [
        {
          "output_type": "stream",
          "name": "stdout",
          "text": [
            "Acurácia: 0.792\n",
            "Precisão: 0.8031496062992126\n",
            "Recall: 0.7906976744186046\n"
          ]
        }
      ]
    },
    {
      "cell_type": "code",
      "source": [
        "fpr"
      ],
      "metadata": {
        "colab": {
          "base_uri": "https://localhost:8080/"
        },
        "id": "pq2S9jWJbQzO",
        "outputId": "221b0f41-5afa-4445-c0fc-ad12aaf77077"
      },
      "execution_count": null,
      "outputs": [
        {
          "output_type": "execute_result",
          "data": {
            "text/plain": [
              "array([0.        , 0.        , 0.        , 0.        , 0.        ,\n",
              "       0.        , 0.        , 0.        , 0.        , 0.        ,\n",
              "       0.        , 0.        , 0.        , 0.00826446, 0.00826446,\n",
              "       0.00826446, 0.00826446, 0.00826446, 0.00826446, 0.00826446,\n",
              "       0.00826446, 0.00826446, 0.01652893, 0.03305785, 0.03305785,\n",
              "       0.03305785, 0.03305785, 0.03305785, 0.05785124, 0.05785124,\n",
              "       0.0661157 , 0.0661157 , 0.09090909, 0.11570248, 0.14876033,\n",
              "       0.16528926, 0.16528926, 0.16528926, 0.16528926, 0.18181818,\n",
              "       0.19834711, 0.20661157, 0.2231405 , 0.23140496, 0.23140496,\n",
              "       0.26446281, 0.2892562 , 0.31404959, 0.33057851, 0.36363636,\n",
              "       0.36363636, 0.37190083, 0.38842975, 0.42975207, 0.45454545,\n",
              "       0.48760331, 0.49586777, 0.51239669, 0.52066116, 0.52892562,\n",
              "       0.54545455, 0.5785124 , 0.59504132, 0.63636364, 0.6446281 ,\n",
              "       0.66115702, 0.66942149, 0.67768595, 0.71900826, 0.73553719,\n",
              "       0.76859504, 0.78512397, 0.79338843, 0.82644628, 0.85123967,\n",
              "       0.87603306, 0.89256198, 0.90909091, 0.91735537, 0.95041322,\n",
              "       0.97520661, 1.        ])"
            ]
          },
          "metadata": {},
          "execution_count": 16
        }
      ]
    },
    {
      "cell_type": "code",
      "source": [
        "tpr"
      ],
      "metadata": {
        "colab": {
          "base_uri": "https://localhost:8080/"
        },
        "id": "4f0HIuYBbhU0",
        "outputId": "6534ed5d-fac2-44e7-e67c-8ff004708c72"
      },
      "execution_count": null,
      "outputs": [
        {
          "output_type": "execute_result",
          "data": {
            "text/plain": [
              "array([0.        , 0.00775194, 0.02325581, 0.04651163, 0.05426357,\n",
              "       0.06976744, 0.11627907, 0.12403101, 0.13953488, 0.1627907 ,\n",
              "       0.19379845, 0.24031008, 0.26356589, 0.27906977, 0.29457364,\n",
              "       0.34108527, 0.37984496, 0.42635659, 0.45736434, 0.48062016,\n",
              "       0.49612403, 0.50387597, 0.51162791, 0.53488372, 0.5503876 ,\n",
              "       0.58139535, 0.60465116, 0.62015504, 0.64341085, 0.65891473,\n",
              "       0.65891473, 0.66666667, 0.66666667, 0.68217054, 0.68217054,\n",
              "       0.70542636, 0.71317829, 0.73643411, 0.74418605, 0.76744186,\n",
              "       0.78294574, 0.79069767, 0.80620155, 0.81395349, 0.82945736,\n",
              "       0.8372093 , 0.86046512, 0.86821705, 0.88372093, 0.88372093,\n",
              "       0.89922481, 0.90697674, 0.90697674, 0.90697674, 0.91472868,\n",
              "       0.93023256, 0.93023256, 0.93023256, 0.93023256, 0.9379845 ,\n",
              "       0.9379845 , 0.9379845 , 0.9379845 , 0.94573643, 0.96124031,\n",
              "       0.96124031, 0.96899225, 0.99224806, 0.99224806, 0.99224806,\n",
              "       0.99224806, 0.99224806, 0.99224806, 0.99224806, 1.        ,\n",
              "       1.        , 1.        , 1.        , 1.        , 1.        ,\n",
              "       1.        , 1.        ])"
            ]
          },
          "metadata": {},
          "execution_count": 17
        }
      ]
    },
    {
      "cell_type": "code",
      "source": [
        "_"
      ],
      "metadata": {
        "colab": {
          "base_uri": "https://localhost:8080/"
        },
        "id": "GJX6bidZboRE",
        "outputId": "09de9b7a-112c-4ed1-963a-ca2ae96dbbfd"
      },
      "execution_count": null,
      "outputs": [
        {
          "output_type": "execute_result",
          "data": {
            "text/plain": [
              "array([0.03, 0.05, 0.07, 0.08, 0.09, 0.1 , 0.11, 0.13, 0.14, 0.15, 0.16,\n",
              "       0.17, 0.18, 0.19, 0.2 , 0.21, 0.22, 0.23, 0.24, 0.25, 0.26, 0.27,\n",
              "       0.28, 0.29, 0.3 , 0.31, 0.32, 0.33, 0.34, 0.35, 0.36, 0.37, 0.38,\n",
              "       0.39, 0.4 , 0.41, 0.42, 0.43, 0.44, 0.45, 0.47, 0.48, 0.49, 0.5 ,\n",
              "       0.51, 0.52, 0.53, 0.54, 0.55, 0.56, 0.57, 0.58, 0.59, 0.6 , 0.61,\n",
              "       0.62, 0.63, 0.65, 0.66, 0.67, 0.68, 0.69, 0.7 , 0.71, 0.72, 0.73,\n",
              "       0.74, 0.75, 0.76, 0.78, 0.8 , 0.81, 0.82, 0.84, 0.85, 0.87, 0.88,\n",
              "       0.89, 0.9 , 0.91, 0.92, 0.93, 0.94, 0.95, 0.96, 0.97, 0.98, 0.99,\n",
              "       1.  ])"
            ]
          },
          "metadata": {},
          "execution_count": 18
        }
      ]
    },
    {
      "cell_type": "code",
      "source": [
        "y_prob = model.predict_proba(X_test_tfidf)[:, 1]\n",
        "\n",
        "fpr, tpr, _ = roc_curve(y_test, y_prob)\n",
        "\n",
        "roc_auc = auc(fpr, tpr)\n",
        "\n",
        "roc_auc_percentage = roc_auc * 100\n",
        "print(f\"AUC da Curva ROC (em porcentagem): {roc_auc_percentage:.2f}%\")\n",
        "\n",
        "plt.figure(figsize=(14, 6))\n",
        "\n",
        "plt.subplot(1, 2, 1)\n",
        "plt.plot(fpr, tpr, color='darkorange', lw=2, label=f'Curva ROC (AUC = {roc_auc:.2f})')\n",
        "plt.plot([0, 1], [0, 1], color='navy', lw=2, linestyle='--')\n",
        "plt.xlim([0.0, 1.0])\n",
        "plt.ylim([0.0, 1.05])\n",
        "plt.xlabel('Taxa de Falsos Positivos (FPR)')\n",
        "plt.ylabel('Taxa de Verdadeiros Positivos (TPR)')\n",
        "plt.title('Curva ROC')\n",
        "plt.legend(loc=\"lower right\")\n",
        "\n",
        "precision_vals, recall_vals, _ = precision_recall_curve(y_test, y_prob)\n",
        "\n",
        "pr_auc = auc(recall_vals, precision_vals)\n",
        "\n",
        "pr_auc_percentage = pr_auc * 100\n",
        "print(f\"AUC da Curva Precision-Recall (em porcentagem): {pr_auc_percentage:.2f}%\")\n",
        "\n",
        "plt.subplot(1, 2, 2)\n",
        "plt.plot(recall_vals, precision_vals, color='blue', lw=2, label=f'Curva Precision-Recall (PR AUC = {pr_auc:.2f})')\n",
        "plt.xlabel('Revocação')\n",
        "plt.ylabel('Precisão')\n",
        "plt.title('Curva Precision-Recall')\n",
        "plt.legend(loc=\"lower left\")\n",
        "\n",
        "plt.tight_layout()\n",
        "plt.show()"
      ],
      "metadata": {
        "colab": {
          "base_uri": "https://localhost:8080/",
          "height": 579
        },
        "id": "H9HLQptdYgNX",
        "outputId": "6ec70e9a-a66c-4f3a-c22e-e20becb0c078"
      },
      "execution_count": null,
      "outputs": [
        {
          "output_type": "stream",
          "name": "stdout",
          "text": [
            "AUC da Curva ROC (em porcentagem): 88.22%\n",
            "AUC da Curva Precision-Recall (em porcentagem): 90.30%\n"
          ]
        },
        {
          "output_type": "display_data",
          "data": {
            "text/plain": [
              "<Figure size 1400x600 with 2 Axes>"
            ],
            "image/png": "[encoded data removed]"
          },
          "metadata": {}
        }
      ]
    },
    {
      "cell_type": "code",
      "source": [
        "df_combined = pd.DataFrame({\n",
        "    'Probabilidade_Prevista': y_prob,\n",
        "    'Valor_Real': y_test\n",
        "})\n",
        "\n",
        "print(df_combined)"
      ],
      "metadata": {
        "colab": {
          "base_uri": "https://localhost:8080/"
        },
        "id": "K3i33WkLKuAu",
        "outputId": "2b585e9b-aec7-493a-98d2-854ab16bf210"
      },
      "execution_count": null,
      "outputs": [
        {
          "output_type": "stream",
          "name": "stdout",
          "text": [
            "     Probabilidade_Prevista  Valor_Real\n",
            "521                    0.67           1\n",
            "737                    0.70           1\n",
            "740                    0.78           1\n",
            "660                    0.15           0\n",
            "411                    0.63           1\n",
            "..                      ...         ...\n",
            "109                    0.27           0\n",
            "430                    0.31           1\n",
            "77                     0.89           1\n",
            "84                     0.59           0\n",
            "286                    0.57           0\n",
            "\n",
            "[250 rows x 2 columns]\n"
          ]
        }
      ]
    },
    {
      "cell_type": "code",
      "source": [
        "import numpy as np\n",
        "import matplotlib.pyplot as plt\n",
        "import pandas as pd\n",
        "\n",
        "def plot_population_with_visual_table(df_combined, step=0.1):\n",
        "    bins = np.arange(0, 1 + step, step)\n",
        "    total_population = len(df_combined)\n",
        "    total_positive = np.sum(df_combined['Valor_Real'] == 1)\n",
        "    counts_general, _ = np.histogram(df_combined['Probabilidade_Prevista'], bins=bins)\n",
        "    percentage_general = counts_general / total_population\n",
        "    counts_positive, _ = np.histogram(df_combined[df_combined['Valor_Real'] == 1]['Probabilidade_Prevista'], bins=bins)\n",
        "    percentage_positive = counts_positive / total_positive\n",
        "\n",
        "    data = {\n",
        "        'Intervalo de Probabilidade': [f'{bins[i]:.2f} - {bins[i+1]:.2f}' for i in range(len(bins)-1)],\n",
        "        'População Geral (%)': [f'{x*100:.2f}%' for x in percentage_general],\n",
        "        'População Positiva (%)': [f'{x*100:.2f}%' for x in percentage_positive]\n",
        "    }\n",
        "    df_comparativo = pd.DataFrame(data)\n",
        "\n",
        "    fig, ax = plt.subplots(figsize=(10, 6))\n",
        "    width = step / 2\n",
        "    ax.bar(bins[:-1], percentage_general, width=width, alpha=0.7, label='População Geral', color='blue', edgecolor='black', align='edge')\n",
        "    ax.bar(bins[:-1] + width, percentage_positive, width=width, alpha=0.7, label='População Positiva', color='red', edgecolor='black', align='edge')\n",
        "    ax.set_yticks(np.linspace(0, 0.3, 4))\n",
        "    ax.set_yticklabels([f'{int(x*100)}%' for x in np.linspace(0, 0.3, 4)])\n",
        "    ax.set_ylim(0, 0.3)\n",
        "    ax.set_xticks(bins)\n",
        "    ax.set_xticklabels([f'{x:.2f}' for x in bins])\n",
        "    ax.set_xlabel('Probabilidade da Classe Positiva')\n",
        "    ax.set_ylabel('Porcentagem da População (%)')\n",
        "    ax.set_title('Histograma de Probabilidades (%) - População Geral e Positiva')\n",
        "    ax.legend(loc='upper right')\n",
        "    plt.tight_layout()\n",
        "    plt.show()\n",
        "\n",
        "    styled_table = df_comparativo.style.set_properties(**{\n",
        "        'border': '1px solid black',\n",
        "        'text-align': 'center',\n",
        "        'padding': '10px'\n",
        "    }).set_table_styles([{\n",
        "        'selector': 'th',\n",
        "        'props': [('background-color', '#f0f0f0'), ('border', '1px solid black'), ('padding', '10px')]\n",
        "    }])\n",
        "\n",
        "    display(styled_table)\n",
        "\n",
        "plot_population_with_visual_table(df_combined, step=0.05)\n"
      ],
      "metadata": {
        "colab": {
          "base_uri": "https://localhost:8080/",
          "height": 1000
        },
        "id": "49R_a3yodj0g",
        "outputId": "bcbed67f-00a7-418d-db81-cbd2ea03d279"
      },
      "execution_count": null,
      "outputs": [
        {
          "output_type": "display_data",
          "data": {
            "text/plain": [
              "<Figure size 1000x600 with 1 Axes>"
            ],
            "image/png": "[encoded data removed]"
          },
          "metadata": {}
        },
        {
          "output_type": "display_data",
          "data": {
            "text/plain": [
              "<pandas.io.formats.style.Styler at 0x7a371ea628c0>"
            ],
            "text/html": [
              "<style type=\"text/css\">\n",
              "#T_96ec6 th {\n",
              "  background-color: #f0f0f0;\n",
              "  border: 1px solid black;\n",
              "  padding: 10px;\n",
              "}\n",
              "#T_96ec6_row0_col0, #T_96ec6_row0_col1, #T_96ec6_row0_col2, #T_96ec6_row1_col0, #T_96ec6_row1_col1, #T_96ec6_row1_col2, #T_96ec6_row2_col0, #T_96ec6_row2_col1, #T_96ec6_row2_col2, #T_96ec6_row3_col0, #T_96ec6_row3_col1, #T_96ec6_row3_col2, #T_96ec6_row4_col0, #T_96ec6_row4_col1, #T_96ec6_row4_col2, #T_96ec6_row5_col0, #T_96ec6_row5_col1, #T_96ec6_row5_col2, #T_96ec6_row6_col0, #T_96ec6_row6_col1, #T_96ec6_row6_col2, #T_96ec6_row7_col0, #T_96ec6_row7_col1, #T_96ec6_row7_col2, #T_96ec6_row8_col0, #T_96ec6_row8_col1, #T_96ec6_row8_col2, #T_96ec6_row9_col0, #T_96ec6_row9_col1, #T_96ec6_row9_col2, #T_96ec6_row10_col0, #T_96ec6_row10_col1, #T_96ec6_row10_col2, #T_96ec6_row11_col0, #T_96ec6_row11_col1, #T_96ec6_row11_col2, #T_96ec6_row12_col0, #T_96ec6_row12_col1, #T_96ec6_row12_col2, #T_96ec6_row13_col0, #T_96ec6_row13_col1, #T_96ec6_row13_col2, #T_96ec6_row14_col0, #T_96ec6_row14_col1, #T_96ec6_row14_col2, #T_96ec6_row15_col0, #T_96ec6_row15_col1, #T_96ec6_row15_col2, #T_96ec6_row16_col0, #T_96ec6_row16_col1, #T_96ec6_row16_col2, #T_96ec6_row17_col0, #T_96ec6_row17_col1, #T_96ec6_row17_col2, #T_96ec6_row18_col0, #T_96ec6_row18_col1, #T_96ec6_row18_col2, #T_96ec6_row19_col0, #T_96ec6_row19_col1, #T_96ec6_row19_col2 {\n",
              "  border: 1px solid black;\n",
              "  text-align: center;\n",
              "  padding: 10px;\n",
              "}\n",
              "</style>\n",
              "<table id=\"T_96ec6\" class=\"dataframe\">\n",
              "  <thead>\n",
              "    <tr>\n",
              "      <th class=\"blank level0\" >&nbsp;</th>\n",
              "      <th id=\"T_96ec6_level0_col0\" class=\"col_heading level0 col0\" >Intervalo de Probabilidade</th>\n",
              "      <th id=\"T_96ec6_level0_col1\" class=\"col_heading level0 col1\" >População Geral (%)</th>\n",
              "      <th id=\"T_96ec6_level0_col2\" class=\"col_heading level0 col2\" >População Positiva (%)</th>\n",
              "    </tr>\n",
              "  </thead>\n",
              "  <tbody>\n",
              "    <tr>\n",
              "      <th id=\"T_96ec6_level0_row0\" class=\"row_heading level0 row0\" >0</th>\n",
              "      <td id=\"T_96ec6_row0_col0\" class=\"data row0 col0\" >0.00 - 0.05</td>\n",
              "      <td id=\"T_96ec6_row0_col1\" class=\"data row0 col1\" >1.20%</td>\n",
              "      <td id=\"T_96ec6_row0_col2\" class=\"data row0 col2\" >0.00%</td>\n",
              "    </tr>\n",
              "    <tr>\n",
              "      <th id=\"T_96ec6_level0_row1\" class=\"row_heading level0 row1\" >1</th>\n",
              "      <td id=\"T_96ec6_row1_col0\" class=\"data row1 col0\" >0.05 - 0.10</td>\n",
              "      <td id=\"T_96ec6_row1_col1\" class=\"data row1 col1\" >2.80%</td>\n",
              "      <td id=\"T_96ec6_row1_col2\" class=\"data row1 col2\" >0.00%</td>\n",
              "    </tr>\n",
              "    <tr>\n",
              "      <th id=\"T_96ec6_level0_row2\" class=\"row_heading level0 row2\" >2</th>\n",
              "      <td id=\"T_96ec6_row2_col0\" class=\"data row2 col0\" >0.10 - 0.15</td>\n",
              "      <td id=\"T_96ec6_row2_col1\" class=\"data row2 col1\" >3.20%</td>\n",
              "      <td id=\"T_96ec6_row2_col2\" class=\"data row2 col2\" >0.00%</td>\n",
              "    </tr>\n",
              "    <tr>\n",
              "      <th id=\"T_96ec6_level0_row3\" class=\"row_heading level0 row3\" >3</th>\n",
              "      <td id=\"T_96ec6_row3_col0\" class=\"data row3 col0\" >0.15 - 0.20</td>\n",
              "      <td id=\"T_96ec6_row3_col1\" class=\"data row3 col1\" >4.40%</td>\n",
              "      <td id=\"T_96ec6_row3_col2\" class=\"data row3 col2\" >0.78%</td>\n",
              "    </tr>\n",
              "    <tr>\n",
              "      <th id=\"T_96ec6_level0_row4\" class=\"row_heading level0 row4\" >4</th>\n",
              "      <td id=\"T_96ec6_row4_col0\" class=\"data row4 col0\" >0.20 - 0.25</td>\n",
              "      <td id=\"T_96ec6_row4_col1\" class=\"data row4 col1\" >6.80%</td>\n",
              "      <td id=\"T_96ec6_row4_col2\" class=\"data row4 col2\" >3.10%</td>\n",
              "    </tr>\n",
              "    <tr>\n",
              "      <th id=\"T_96ec6_level0_row5\" class=\"row_heading level0 row5\" >5</th>\n",
              "      <td id=\"T_96ec6_row5_col0\" class=\"data row5 col0\" >0.25 - 0.30</td>\n",
              "      <td id=\"T_96ec6_row5_col1\" class=\"data row5 col1\" >7.60%</td>\n",
              "      <td id=\"T_96ec6_row5_col2\" class=\"data row5 col2\" >2.33%</td>\n",
              "    </tr>\n",
              "    <tr>\n",
              "      <th id=\"T_96ec6_level0_row6\" class=\"row_heading level0 row6\" >6</th>\n",
              "      <td id=\"T_96ec6_row6_col0\" class=\"data row6 col0\" >0.30 - 0.35</td>\n",
              "      <td id=\"T_96ec6_row6_col1\" class=\"data row6 col1\" >3.60%</td>\n",
              "      <td id=\"T_96ec6_row6_col2\" class=\"data row6 col2\" >1.55%</td>\n",
              "    </tr>\n",
              "    <tr>\n",
              "      <th id=\"T_96ec6_level0_row7\" class=\"row_heading level0 row7\" >7</th>\n",
              "      <td id=\"T_96ec6_row7_col0\" class=\"data row7 col0\" >0.35 - 0.40</td>\n",
              "      <td id=\"T_96ec6_row7_col1\" class=\"data row7 col1\" >5.60%</td>\n",
              "      <td id=\"T_96ec6_row7_col2\" class=\"data row7 col2\" >1.55%</td>\n",
              "    </tr>\n",
              "    <tr>\n",
              "      <th id=\"T_96ec6_level0_row8\" class=\"row_heading level0 row8\" >8</th>\n",
              "      <td id=\"T_96ec6_row8_col0\" class=\"data row8 col0\" >0.40 - 0.45</td>\n",
              "      <td id=\"T_96ec6_row8_col1\" class=\"data row8 col1\" >6.40%</td>\n",
              "      <td id=\"T_96ec6_row8_col2\" class=\"data row8 col2\" >4.65%</td>\n",
              "    </tr>\n",
              "    <tr>\n",
              "      <th id=\"T_96ec6_level0_row9\" class=\"row_heading level0 row9\" >9</th>\n",
              "      <td id=\"T_96ec6_row9_col0\" class=\"data row9 col0\" >0.45 - 0.50</td>\n",
              "      <td id=\"T_96ec6_row9_col1\" class=\"data row9 col1\" >6.00%</td>\n",
              "      <td id=\"T_96ec6_row9_col2\" class=\"data row9 col2\" >5.43%</td>\n",
              "    </tr>\n",
              "    <tr>\n",
              "      <th id=\"T_96ec6_level0_row10\" class=\"row_heading level0 row10\" >10</th>\n",
              "      <td id=\"T_96ec6_row10_col0\" class=\"data row10 col0\" >0.50 - 0.55</td>\n",
              "      <td id=\"T_96ec6_row10_col1\" class=\"data row10 col1\" >6.40%</td>\n",
              "      <td id=\"T_96ec6_row10_col2\" class=\"data row10 col2\" >6.98%</td>\n",
              "    </tr>\n",
              "    <tr>\n",
              "      <th id=\"T_96ec6_level0_row11\" class=\"row_heading level0 row11\" >11</th>\n",
              "      <td id=\"T_96ec6_row11_col0\" class=\"data row11 col0\" >0.55 - 0.60</td>\n",
              "      <td id=\"T_96ec6_row11_col1\" class=\"data row11 col1\" >8.40%</td>\n",
              "      <td id=\"T_96ec6_row11_col2\" class=\"data row11 col2\" >6.98%</td>\n",
              "    </tr>\n",
              "    <tr>\n",
              "      <th id=\"T_96ec6_level0_row12\" class=\"row_heading level0 row12\" >12</th>\n",
              "      <td id=\"T_96ec6_row12_col0\" class=\"data row12 col0\" >0.60 - 0.65</td>\n",
              "      <td id=\"T_96ec6_row12_col1\" class=\"data row12 col1\" >1.60%</td>\n",
              "      <td id=\"T_96ec6_row12_col2\" class=\"data row12 col2\" >2.33%</td>\n",
              "    </tr>\n",
              "    <tr>\n",
              "      <th id=\"T_96ec6_level0_row13\" class=\"row_heading level0 row13\" >13</th>\n",
              "      <td id=\"T_96ec6_row13_col0\" class=\"data row13 col0\" >0.65 - 0.70</td>\n",
              "      <td id=\"T_96ec6_row13_col1\" class=\"data row13 col1\" >8.80%</td>\n",
              "      <td id=\"T_96ec6_row13_col2\" class=\"data row13 col2\" >13.18%</td>\n",
              "    </tr>\n",
              "    <tr>\n",
              "      <th id=\"T_96ec6_level0_row14\" class=\"row_heading level0 row14\" >14</th>\n",
              "      <td id=\"T_96ec6_row14_col0\" class=\"data row14 col0\" >0.70 - 0.75</td>\n",
              "      <td id=\"T_96ec6_row14_col1\" class=\"data row14 col1\" >3.20%</td>\n",
              "      <td id=\"T_96ec6_row14_col2\" class=\"data row14 col2\" >5.43%</td>\n",
              "    </tr>\n",
              "    <tr>\n",
              "      <th id=\"T_96ec6_level0_row15\" class=\"row_heading level0 row15\" >15</th>\n",
              "      <td id=\"T_96ec6_row15_col0\" class=\"data row15 col0\" >0.75 - 0.80</td>\n",
              "      <td id=\"T_96ec6_row15_col1\" class=\"data row15 col1\" >2.80%</td>\n",
              "      <td id=\"T_96ec6_row15_col2\" class=\"data row15 col2\" >5.43%</td>\n",
              "    </tr>\n",
              "    <tr>\n",
              "      <th id=\"T_96ec6_level0_row16\" class=\"row_heading level0 row16\" >16</th>\n",
              "      <td id=\"T_96ec6_row16_col0\" class=\"data row16 col0\" >0.80 - 0.85</td>\n",
              "      <td id=\"T_96ec6_row16_col1\" class=\"data row16 col1\" >6.40%</td>\n",
              "      <td id=\"T_96ec6_row16_col2\" class=\"data row16 col2\" >12.40%</td>\n",
              "    </tr>\n",
              "    <tr>\n",
              "      <th id=\"T_96ec6_level0_row17\" class=\"row_heading level0 row17\" >17</th>\n",
              "      <td id=\"T_96ec6_row17_col0\" class=\"data row17 col0\" >0.85 - 0.90</td>\n",
              "      <td id=\"T_96ec6_row17_col1\" class=\"data row17 col1\" >4.80%</td>\n",
              "      <td id=\"T_96ec6_row17_col2\" class=\"data row17 col2\" >8.53%</td>\n",
              "    </tr>\n",
              "    <tr>\n",
              "      <th id=\"T_96ec6_level0_row18\" class=\"row_heading level0 row18\" >18</th>\n",
              "      <td id=\"T_96ec6_row18_col0\" class=\"data row18 col0\" >0.90 - 0.95</td>\n",
              "      <td id=\"T_96ec6_row18_col1\" class=\"data row18 col1\" >6.40%</td>\n",
              "      <td id=\"T_96ec6_row18_col2\" class=\"data row18 col2\" >12.40%</td>\n",
              "    </tr>\n",
              "    <tr>\n",
              "      <th id=\"T_96ec6_level0_row19\" class=\"row_heading level0 row19\" >19</th>\n",
              "      <td id=\"T_96ec6_row19_col0\" class=\"data row19 col0\" >0.95 - 1.00</td>\n",
              "      <td id=\"T_96ec6_row19_col1\" class=\"data row19 col1\" >3.60%</td>\n",
              "      <td id=\"T_96ec6_row19_col2\" class=\"data row19 col2\" >6.98%</td>\n",
              "    </tr>\n",
              "  </tbody>\n",
              "</table>\n"
            ]
          },
          "metadata": {}
        }
      ]
    }
  ]
}